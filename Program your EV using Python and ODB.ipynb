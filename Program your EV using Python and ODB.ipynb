{
 "cells": [
  {
   "cell_type": "markdown",
   "id": "0f2172fb",
   "metadata": {},
   "source": [
    "\n",
    "### What is OBD\n",
    "On-board diagnostics (OBD) is a term referring to a vehicle's self-diagnostic and reporting capability. OBD systems give the vehicle owner or repair technician access to the status of the various vehicle sub-systems. The amount of diagnostic information available via OBD has varied widely since its introduction in the early 1980s versions of on-board vehicle computers. Early versions of OBD would simply illuminate a malfunction indicator light (MIL) or \"idiot light\" if a problem was detected, but would not provide any information as to the nature of the problem. Modern OBD implementations use a **standardized digital communications port** to provide real-time data in addition to a **standardized series of diagnostic trouble codes**, or DTCs, which allow a person to rapidly identify and remedy malfunctions within the vehicle.\n",
    "\n",
    "OBD-II provides access to data from the engine control unit (ECU) and offers a valuable source of information when troubleshooting problems inside a vehicle. The SAE J1979 standard defines a method for requesting various diagnostic data and a list of standard parameters that might be available from the ECU. The various parameters that are available are addressed by **\"parameter identification numbers\" or PIDs** which are defined in J1979. For a list of basic PIDs, their definitions, and the formula to convert raw OBD-II output to meaningful diagnostic units, see OBD-II PIDs. **Manufacturers are not required to implement all PIDs listed in J1979** and they are allowed to include proprietary PIDs that are not listed. The PID request and data retrieval system gives access to real time performance data as well as flagged DTCs. For a list of generic OBD-II DTCs suggested by the SAE, see Table of OBD-II Codes. **Individual manufacturers often enhance the OBD-II code set with additional proprietary DTCs.**\n",
    "\n",
    "1996: The OBD-II specification is made mandatory for all cars sold in the United States.\n",
    "\n",
    "To see the definition of the speed PID (as defined by OBD2) see<br>\n",
    "https://en.wikipedia.org/wiki/OBD-II_PIDs"
   ]
  },
  {
   "cell_type": "markdown",
   "id": "78f36586",
   "metadata": {},
   "source": [
    "### What you will need\n",
    "\n",
    "An installation of python, see:<br>\n",
    "https://www.anaconda.com/products/distribution\n",
    "\n",
    "Required packages:\n",
    "\n",
    "    # The OBD package\n",
    "    pip install obd\n",
    "    \n",
    "    # An emulator we can use to connect to (because bluetooth won't reach the classroom)\n",
    "    # This emulator emulates a limited set of Toyota Auris Hybrid PIDs. \n",
    "    # For more information see the link below:\n",
    "    pip install ELM327-emulator\n",
    "\n",
    "https://github.com/Ircama/ELM327-emulator"
   ]
  },
  {
   "cell_type": "markdown",
   "id": "c2062950",
   "metadata": {},
   "source": [
    "### Start by importing the OBD module and creating a connection to the OBD adapter"
   ]
  },
  {
   "cell_type": "code",
   "execution_count": 58,
   "id": "4430350e",
   "metadata": {},
   "outputs": [],
   "source": [
    "# Import the OBD module and create a connection to the OBD adapter\n",
    "import obd\n",
    "\n",
    "port = \"/dev/pts/1\"\n",
    "connection = obd.OBD(port) # auto-connects to USB or RF port if no argument is supplied"
   ]
  },
  {
   "cell_type": "markdown",
   "id": "ad71aa78",
   "metadata": {},
   "source": [
    "### Use one of the pre-defined commands in the python OBD module\n",
    "\n",
    "To see the commands available in this package see:<br>\n",
    "    https://github.com/brendan-w/python-OBD/blob/master/obd/commands.py\n"
   ]
  },
  {
   "cell_type": "code",
   "execution_count": null,
   "id": "3f1ec216",
   "metadata": {},
   "outputs": [],
   "source": [
    "cmd = obd.commands.SPEED         # select an OBD command (sensor)\n",
    "\n",
    "response = connection.query(cmd) # send the command, and parse the response\n",
    "\n",
    "print(response.value)            # returns unit-bearing values thanks to Pint\n",
    "print(response.value.to(\"mph\"))  # user-friendly unit conversions"
   ]
  },
  {
   "cell_type": "markdown",
   "id": "5059e895",
   "metadata": {},
   "source": [
    "Note that the values coming from the emulator are random and will change between calls\n",
    "\n",
    "The OBD package provides return types defined in the package Pint.\n",
    "\n",
    "Pint is a Python package used to define and operate on physical quantities. It's types are a combination of numerical value and a unit of measurement. This allows arithmetic operations between types with different units as well as conversions from and to different units. In this case kph to mph:\n",
    "\n",
    "```python\n",
    "    print(response.value.to(\"mph\"))\n",
    "```"
   ]
  },
  {
   "cell_type": "markdown",
   "id": "560954fa",
   "metadata": {},
   "source": [
    "### Creating a custom command\n",
    "\n",
    "Given that manufacturers may add proprietary PIDs it is important to know how to create new commands for the python OBD module."
   ]
  },
  {
   "cell_type": "code",
   "execution_count": null,
   "id": "3e8d3e4c",
   "metadata": {},
   "outputs": [],
   "source": [
    "cmd = obd.OBDCommand(\n",
    "               \"HYBRID_BATTERY_REMAINING\",           # name\n",
    "               \"Hybrid battery pack remaining life\", # description\n",
    "               b\"015B\",                              # OBD PID 01 (mode) 5B (sensor)\n",
    "               3,                                    # number of return bytes to expect\n",
    "               obd.decoders.percent,                 # decoding function \n",
    "               obd.protocols.ECU.ENGINE,             # (optional) ECU filter\n",
    "               True)                                 # (optional) allow a \"01\" to be added for speed\n",
    "\n",
    "response = connection.query(cmd) # send the command, and parse the response\n",
    "\n",
    "print(response.value)\n",
    "\n",
    "# If you had been connected to a Toyota Auris Hybrid vehicle this would have provided the requested data\n",
    "# Unfortunately for the live demo we are restricted to the ELM327 Emulator"
   ]
  },
  {
   "cell_type": "markdown",
   "id": "31758290",
   "metadata": {},
   "source": [
    "Now let's create a custom command for something we know the emulator will recognize\n",
    "\n",
    "In this example lets create our own version of the SPEED command\n",
    "\n",
    "Remember, you can see the standard definition of the SPEED PID here:<br>\n",
    "https://en.wikipedia.org/wiki/OBD-II_PIDs\n",
    "\n",
    "<pre>\n",
    "    mode: 01\n",
    "    pid: 0D\n",
    "\n",
    "    Bytes returned 3! here's why:\n",
    "        mode: 01 (byte 1)\n",
    "        pid: 0D (byte 2)\n",
    "        return value (byte 3) speed can be [0..255]\n",
    "</pre>\n",
    "\n",
    "Let's postpone a discussion of decoders for later"
   ]
  },
  {
   "cell_type": "code",
   "execution_count": null,
   "id": "737a3b9e",
   "metadata": {},
   "outputs": [],
   "source": [
    "cmd = obd.OBDCommand(\n",
    "               \"mySPEED\",                 # name\n",
    "               \"myVehicle Speed\",         # description\n",
    "               b\"010D\",                   # OBD PID 01 (mode) 5B (sensor)\n",
    "               3,                         # number of return bytes to expect\n",
    "               obd.decoders.uas(0x09),    # decoding function \n",
    "               obd.protocols.ECU.ENGINE,  # (optional) ECU filter\n",
    "               True)                      # (optional) allow a \"01\" to be added for speed\n",
    "\n",
    "response = connection.query(cmd) # send the command, and parse the response\n",
    "\n",
    "print(response.value)"
   ]
  },
  {
   "cell_type": "markdown",
   "id": "8c49384f",
   "metadata": {},
   "source": [
    "Continuing we create a custom decoder for our custom command\n",
    "\n",
    "Here are some usefull links when trying to understand command decoding\n",
    "https://github.com/brendan-w/python-OBD/blob/master/obd/decoders.py<br>\n",
    "https://github.com/brendan-w/python-OBD/blob/master/obd/UnitsAndScaling.py\n",
    "\n",
    "1) Why does the author use functools.partial?\n",
    "\n",
    "    Assuming:\n",
    "\n",
    "```python\n",
    "    def sum2(x, y):\n",
    "        return x + y\n",
    "```\n",
    "\n",
    "    By calling functools.partial(sum2, 4) you create a new function (a callable, to be precise) that behaves like sum2, but has one positional argument less. That missing argument is always substituted by 4, so that partial(sum2, 4)(2) == sum2(4, 2)\n",
    "    \n",
    "    So by using functools.partial, the author can create a function reference which may later be called with the message at decode time.\n",
    "\n",
    "2) Messages from the OBD adapter are represented as an array of bytes\n",
    "\n",
    "    Remember:\n",
    "\n",
    "<pre>\n",
    "    mode: 01\n",
    "    pid: 0D\n",
    "\n",
    "    Bytes returned 3! here's why:\n",
    "        mode: 01 (byte 1)\n",
    "        pid: 0D (byte 2)\n",
    "        return value (byte 3) speed can be [0..255]\n",
    "</pre>\n",
    "\n",
    "3) Encase the returned value inside a UnitsAndScaling object\n",
    "\n",
    "    UAS(signed, scale, unit)(value)\n",
    "    "
   ]
  },
  {
   "cell_type": "code",
   "execution_count": null,
   "id": "c1f23a08",
   "metadata": {},
   "outputs": [],
   "source": [
    "import functools\n",
    "from obd.UnitsAndScaling import Unit, UAS_IDS, UAS\n",
    "\n",
    "def speed_decoder():\n",
    "    \"\"\" get the corresponding decoder for this UAS ID \"\"\"\n",
    "    return functools.partial(decode_speed)\n",
    "\n",
    "def decode_speed(messages):\n",
    "    d = messages[0].data[2:]  # chop off mode and PID bytes\n",
    "    return UAS(False, 1, Unit.kph)(d)\n",
    "\n",
    "cmd = obd.OBDCommand(\"mySPEED\",           # name\n",
    "               \"myVehicle Speed\",         # description\n",
    "               b\"010D\",                   # OBD PID 01 (group) 0D (sensor)\n",
    "               3,                         # number of return bytes to expect\n",
    "               speed_decoder(),           # decoding function\n",
    "               obd.protocols.ECU.ENGINE,  # (optional) ECU filter\n",
    "               True)                      # (optional) allow a \"01\" to be added for speed\n",
    "\n",
    "response = connection.query(cmd) # send the command, and parse the response\n",
    "\n",
    "print(response.value)"
   ]
  },
  {
   "cell_type": "markdown",
   "id": "6ecce03b",
   "metadata": {},
   "source": [
    "[Example of a live session](./assets/2019_Ford_Ranger.png)"
   ]
  },
  {
   "cell_type": "code",
   "execution_count": null,
   "id": "2c063553",
   "metadata": {},
   "outputs": [],
   "source": []
  }
 ],
 "metadata": {
  "kernelspec": {
   "display_name": "Python 3 (ipykernel)",
   "language": "python",
   "name": "python3"
  },
  "language_info": {
   "codemirror_mode": {
    "name": "ipython",
    "version": 3
   },
   "file_extension": ".py",
   "mimetype": "text/x-python",
   "name": "python",
   "nbconvert_exporter": "python",
   "pygments_lexer": "ipython3",
   "version": "3.8.8"
  }
 },
 "nbformat": 4,
 "nbformat_minor": 5
}
