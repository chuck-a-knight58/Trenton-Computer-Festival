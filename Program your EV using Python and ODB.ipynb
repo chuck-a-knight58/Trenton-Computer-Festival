{
 "cells": [
  {
   "cell_type": "code",
   "execution_count": 15,
   "id": "3f1ec216",
   "metadata": {},
   "outputs": [
    {
     "name": "stdout",
     "output_type": "stream",
     "text": [
      "29.0 kph\n",
      "18.01976457488269 mph\n"
     ]
    }
   ],
   "source": [
    "import obd\n",
    "\n",
    "connection = obd.OBD(\"/dev/pts/2\") # auto-connects to USB or RF port\n",
    "\n",
    "cmd = obd.commands.SPEED # select an OBD command (sensor)\n",
    "\n",
    "response = connection.query(cmd) # send the command, and parse the response\n",
    "\n",
    "print(response.value) # returns unit-bearing values thanks to Pint\n",
    "print(response.value.to(\"mph\")) # user-friendly unit conversions"
   ]
  },
  {
   "cell_type": "code",
   "execution_count": 17,
   "id": "5da195d8",
   "metadata": {},
   "outputs": [
    {
     "name": "stdout",
     "output_type": "stream",
     "text": [
      "41.0 kph\n",
      "25.476218881730695 mph\n"
     ]
    }
   ],
   "source": [
    "# To see the definition of the speed PID (as defined by OBD2)\n",
    "# see https://en.wikipedia.org/wiki/OBD-II_PIDs\n",
    "\n",
    "c = obd.OBDCommand(\"mySPEED\",            # name\n",
    "               \"Vehicle Speed\",          # description\n",
    "               b\"010D\",                  # OBD PID 01 (group) 0D (sensor)\n",
    "               3,                        # number of return bytes to expect\n",
    "               obd.decoders.uas(0x09),   # decoding function\n",
    "               obd.protocols.ECU.ENGINE, # (optional) ECU filter\n",
    "               True)                     # (optional) allow a \"01\" to be added for speed\n",
    "\n",
    "# The author provides many built-in commands. To see how these commands are defined\n",
    "# see https://github.com/brendan-w/python-OBD/blob/master/obd/commands.py\n",
    "\n",
    "response = connection.query(cmd) # send the command, and parse the response\n",
    "\n",
    "print(response.value) # returns unit-bearing values thanks to Pint\n",
    "print(response.value.to(\"mph\")) # user-friendly unit conversions"
   ]
  },
  {
   "cell_type": "code",
   "execution_count": null,
   "id": "c1f23a08",
   "metadata": {},
   "outputs": [],
   "source": [
    "def bytes_to_int(bs):\n",
    "    \"\"\" converts a big-endian byte array into a single integer \"\"\"\n",
    "    v = 0\n",
    "    p = 0\n",
    "    for b in reversed(bs):\n",
    "        v += b * (2 ** p)\n",
    "        p += 8\n",
    "    return v\n",
    "\n",
    "def speed_decoder(messages):\n",
    "    _bytes = messages[0].data[2:]\n",
    "    value = bytes_to_int(_bytes)\n",
    "    return Unit.Quantity(value, \"kph\")"
   ]
  }
 ],
 "metadata": {
  "kernelspec": {
   "display_name": "Python 3 (ipykernel)",
   "language": "python",
   "name": "python3"
  },
  "language_info": {
   "codemirror_mode": {
    "name": "ipython",
    "version": 3
   },
   "file_extension": ".py",
   "mimetype": "text/x-python",
   "name": "python",
   "nbconvert_exporter": "python",
   "pygments_lexer": "ipython3",
   "version": "3.9.13"
  }
 },
 "nbformat": 4,
 "nbformat_minor": 5
}
