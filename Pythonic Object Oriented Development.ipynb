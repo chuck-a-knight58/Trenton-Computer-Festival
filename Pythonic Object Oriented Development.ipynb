{
 "cells": [
  {
   "cell_type": "markdown",
   "metadata": {},
   "source": [
    "## Object Oriented Develpment\n",
    "\n",
    "#### What is OOP and why do I care?\n",
    "+ Programming Model organized around objects rather than actions and data rather than logic.\n",
    "+ Attempts to simplify larger application construction because programming is hard.\n",
    "\n",
    "#### The three principles of Object Oriented Development are:\n",
    "\n",
    "+ Encapsulation[4] hides stuff we don’t NEED to see\n",
    "+ Abstraction[3] provides ways of manipulating things without knowing EXPLICITLY what they are.\n",
    "+ Polymorphism\n",
    "    1. Allows things participating in a common collection to create SPECIFIC BEHAVIOUR.[5] \n",
    "    2. Allows for the creation of a SINGLE BEHAVIOUR under many different circumstances.[6]\n",
    "\n",
    "#### The tools\n",
    "+ Objects[1] allow us to group functionality based on real world things\n",
    "+ Inheritance[2] allows us to extract COMMON behaviors[3] of things out into an abstract "
   ]
  },
  {
   "cell_type": "markdown",
   "metadata": {},
   "source": [
    "## Traditional Development\n",
    "\n",
    "Here is an example of code you might use to handle the printing of different citation types in a word processor.\n",
    "<br>\n",
    "Notice that code is needed for each type of citation. While this doesn't seem like a lot of code, this basic pattern has to be duplicated throught your code every time you handle a citation. Adding a new type of citation means that each block like this one would need to be changed throughout our application.\n",
    "\n",
    "![](./assets/example1a_small.png)"
   ]
  },
  {
   "cell_type": "markdown",
   "metadata": {},
   "source": [
    "## Object Oriented Development\n",
    "\n",
    "Using object oriented development we can keep the complexity of handling each type of citation out of the main logic of the application. Adding new types of citations becomes almost trivial.\n",
    "\n",
    "![](./assets/example1b_small.png)\n",
    "\n",
    "[1] The Book citation type holds all the data and methods that work on it\n",
    "<br>\n",
    "[2] We use inheritance to indicate that a Book can be treated more abstractly as a citable_source\n",
    "<br>\n",
    "[3] We can leverage this abstractness to treat all our types of citations the same. They all provide a print_citation method\n",
    "<br>\n",
    "[4] Since each type of citation knows how to print itself, the rest of the application no longer needs to know about the specific data it holds.\n",
    "<br>\n",
    "[5] Each of our citation source types have differnet data so each must define a specialized vesion of the print_citation method\n",
    "<br>\n",
    "[6] With a base citation type we can now write methods that take citable_sources and handle the details internally."
   ]
  },
  {
   "cell_type": "markdown",
   "metadata": {},
   "source": [
    "## Some Terminology\n",
    "\n",
    "Think of a <strong>class</strong> as a template we can use to make many <strong>objects</strong> of that type\n",
    "\n",
    "#### Classes and their objects have both\n",
    "+ Attributes (data)\n",
    "+ Methods (actions that can work on data)\n"
   ]
  },
  {
   "cell_type": "markdown",
   "metadata": {},
   "source": [
    "## A Simple Class\n",
    "\n",
    "#### Defining a simple class\n",
    "+ The class keyword identifies a class, name follows and ends with a colon\n",
    "+ pass is a placeholder, a statement that does nothing but stops the interpreter from issuing an error message\n",
    "    \n",
    "#### Using a class to make an object\n",
    "+ In the code below a default constructor (using no arguments) was created for us"
   ]
  },
  {
   "cell_type": "code",
   "execution_count": 8,
   "metadata": {},
   "outputs": [
    {
     "name": "stdout",
     "output_type": "stream",
     "text": [
      "<__main__.Book object at 0x0000020FFB936E10>\n"
     ]
    }
   ],
   "source": [
    "class Book:\n",
    "    pass\n",
    "\n",
    "book = Book()\n",
    "print(book)"
   ]
  },
  {
   "cell_type": "markdown",
   "metadata": {},
   "source": [
    "## Constructors\n",
    "+ We can create a constructor that takes any number of arguments<br>\n",
    "+ Unfortunately we can only create one constructor (we'll solve this problem later when we talk about polymorphism)"
   ]
  },
  {
   "cell_type": "code",
   "execution_count": 9,
   "metadata": {},
   "outputs": [
    {
     "name": "stdout",
     "output_type": "stream",
     "text": [
      "\"Gone with the Wind\", Margaret Mitchell, 1936\n",
      "\n"
     ]
    }
   ],
   "source": [
    "class Book:\n",
    "    \n",
    "    def __init__(self, title, author, copyright):\n",
    "        self._title = title\n",
    "        self._author = author\n",
    "        self._copyright = copyright\n",
    "\n",
    "    def print_citation(self):\n",
    "        print(\"\\\"{0}\\\", {1}, {2}\".format(self._title, self._author, self._copyright))\n",
    "        print()\n",
    "\n",
    "book = Book(\"Gone with the Wind\", \"Margaret Mitchell\", 1936)\n",
    "book.print_citation()"
   ]
  },
  {
   "cell_type": "markdown",
   "metadata": {},
   "source": [
    "#### Attributes\n",
    "\n",
    "+ The class above defines 3 object attributes (_title, _author, and _copyright)\n",
    "+ Because Python supports dynamic typing, their types are defined by what we put in them\n",
    "+ Since the constructor defines them, we are guaranteed that they will exist by the time we use a Book object\n",
    "\n",
    "#### Methods\n",
    "\n",
    "+ The class defines 2 methods\n",
    "    + The constructor \\__init\\__ (a special method)\n",
    "    + A print method\n",
    "\n",
    "#### Python's Privacy Model\n",
    "+ Underscores have a special meaning in Python either by convention or syntactically\n",
    "    + Convention\n",
    "        + Single underscores indicate that users are discouraged from using the function or attribute outside of the class itself\n",
    "        + Double underscores indicate that users are <strong>strongly</strong> discouraged from using the function or attribute outside of the class itself\n",
    "        + Python has no hard notion of public or private data\n",
    "    + Syntactically\n",
    "        + When you do certain things, Python will call these forbidden functions for you\n",
    "        + In our example, Book() causes Python to call our constructor method named \\__init\\__\n",
    "        \n",
    "        \n",
    "![Special Method Names](./assets/special-method-names.htm)"
   ]
  },
  {
   "cell_type": "code",
   "execution_count": 38,
   "metadata": {},
   "outputs": [
    {
     "name": "stdout",
     "output_type": "stream",
     "text": [
      "[1] \"Zen and the Art of Motorcycle Maintenance\", Robert M. Pirsig, 1974\n",
      "\n",
      "[2] \"DIY: Quinoa, Food or Fashion\", Bon Appetit, 47, I M. Hungry, 2018\n",
      "\n",
      "Class name is: Book\n",
      "\n",
      "Book static method called\n",
      "\n"
     ]
    }
   ],
   "source": [
    "class Citable_Source:\n",
    "\n",
    "    __next_number = 1\n",
    "    \n",
    "    def __init__(self):\n",
    "        self._number = Citable_Source.__next_number\n",
    "        Citable_Source.__next_number += 1\n",
    "        \n",
    "    def number(self):\n",
    "        return self._number\n",
    "\n",
    "    def print_citation(self):\n",
    "        print(\"[{0}]\".format(self.number()))\n",
    "        print()\n",
    "\n",
    "class Book(Citable_Source):\n",
    "    \n",
    "    _citation_type = \"Book\"\n",
    "    \n",
    "    def __init__(self, title, author, copyright):\n",
    "        Citable_Source.__init__(self)\n",
    "        self._title = title\n",
    "        self._author = author\n",
    "        self._copyright = copyright\n",
    "\n",
    "    def print_citation(self):\n",
    "        print(\"[{0}] \\\"{1}\\\", {2}, {3}\".format(super().number(), self._title, self._author, self._copyright))\n",
    "        print()\n",
    "        \n",
    "    @classmethod\n",
    "    def print_name(cls):\n",
    "        print(\"Class name is: {0}\".format(cls.__name__))\n",
    "        print()\n",
    "\n",
    "    @staticmethod\n",
    "    def print_citation_type():\n",
    "        print(\"Book static method called\")\n",
    "        print()\n",
    "\n",
    "class Magazine(Citable_Source):\n",
    "\n",
    "    def __init__(self, title, author, volume, copyright):\n",
    "        Citable_Source.__init__(self)\n",
    "        self._title = title\n",
    "        self._author = author\n",
    "        self._volume = volume\n",
    "        self._copyright = copyright\n",
    "\n",
    "    def print_citation(self):\n",
    "        print(\"[{0}] \\\"{1}\\\", {2}, {3}, {4}\".format(self.number(), self._title, self._volume, self._author, self._copyright))\n",
    "        print()\n",
    "        \n",
    "book = Book(\"Zen and the Art of Motorcycle Maintenance\", \"Robert M. Pirsig\", 1974)\n",
    "magazine = Magazine(\"DIY: Quinoa, Food or Fashion\", \"I M. Hungry\", \"Bon Appetit, 47\", 2018)\n",
    "book.print_citation()\n",
    "magazine.print_citation()\n",
    "Book.print_name()\n",
    "Book.print_citation_type()\n"
   ]
  },
  {
   "cell_type": "markdown",
   "metadata": {},
   "source": [
    "Classes are defined using the class keyword followed by a class name and ending in a colon\n",
    "All class data and methods are nested one tab level under this definition\n",
    "\n",
    "Classes can define two types of data \n",
    "    + Data owned by the class (one copy of the data for all objects of the class type). \n",
    "      In the above, the value in citation_type is shared by all Book objects.\n",
    "    + Data owned by each instance of a class (by each object created by the class). \n",
    "      In the example above, each object of type Book has its own values for _title, _author, and _copyright\n",
    "      \n",
    "Classes can define methods\n",
    "    + Methods are defined using the def keyword followd by a function name and a parameter list\n",
    "      Parameter lists are a list of variables you must supply when the function is called\n",
    "      In classes the first parameter must always be \n",
    "    + Python uses special names to identify built-in functionality. \n",
    "      In this case __init__ is the name Python uses to identify constructors. \n",
    "      There other special python functions like __str__ etc."
   ]
  },
  {
   "cell_type": "markdown",
   "metadata": {},
   "source": [
    "We can have both class and object level attributes\n",
    "In the example below\n",
    "    name is a class attribute, the same value applies to all objects that are Transportation\n",
    "    speed is an object attribute, each instance of the Transsportation class has it's own value\n",
    "    Attributes (both calss and object) are accessed using dot notation"
   ]
  },
  {
   "cell_type": "code",
   "execution_count": 12,
   "metadata": {},
   "outputs": [
    {
     "name": "stdout",
     "output_type": "stream",
     "text": [
      "thing1.name  = Transportation\n",
      "thing1.speed = 120.0\n",
      "thing2.name  = Transportation\n",
      "thing2.speed = 130.0\n"
     ]
    }
   ],
   "source": [
    "class Transportation:\n",
    "    \n",
    "    name = 'Transportation'\n",
    "    \n",
    "    def __init__(self, latitude, longitude, speed, direction):\n",
    "        self.latitude = latitude\n",
    "        self.longitude = longitude\n",
    "        self.speed = speed\n",
    "        self.direction = direction\n",
    " \n",
    "thing1 = Transportation(1.0, 2.0, 120.0, 0.0)\n",
    "print(\"thing1.name  = {0}\".format(thing1.name))\n",
    "print(\"thing1.speed = {0}\".format(thing1.speed))\n",
    "\n",
    "thing2 = Transportation(1.0, 2.0, 130.0, 0.0)\n",
    "print(\"thing2.name  = {0}\".format(thing2.name))\n",
    "print(\"thing2.speed = {0}\".format(thing2.speed))"
   ]
  },
  {
   "cell_type": "markdown",
   "metadata": {},
   "source": [
    "### Class Attributres"
   ]
  },
  {
   "cell_type": "code",
   "execution_count": 22,
   "metadata": {},
   "outputs": [
    {
     "name": "stdout",
     "output_type": "stream",
     "text": [
      "thing.name = Transportation\n",
      "thing.name = None\n"
     ]
    }
   ],
   "source": [
    "class Transportation:\n",
    "    \n",
    "    name = 'Transportation'\n",
    "    \n",
    "    def __init__(self, latitude, longitude, speed, direction):\n",
    "        self.latitude = latitude\n",
    "        self.longitude = longitude\n",
    "        self.speed = speed\n",
    "        self.direction = direction\n",
    " \n",
    "thing.name = 'Transportation'\n",
    "print(\"thing.name = {0}\".format(thing.name))\n",
    "thing.name = \"None\"\n",
    "print(\"thing.name = {0}\".format(thing.name))"
   ]
  },
  {
   "cell_type": "markdown",
   "metadata": {},
   "source": [
    "### Instance Attributes"
   ]
  },
  {
   "cell_type": "code",
   "execution_count": 25,
   "metadata": {},
   "outputs": [
    {
     "name": "stdout",
     "output_type": "stream",
     "text": [
      "thing1.speed = 120.0\n",
      "thing2.speed = 130.0\n"
     ]
    }
   ],
   "source": [
    "class Transportation:\n",
    "    \n",
    "    name = 'Transportation'\n",
    "    \n",
    "    def __init__(self, latitude, longitude, speed, direction):\n",
    "        self.latitude = latitude\n",
    "        self.longitude = longitude\n",
    "        self.speed = speed\n",
    "        self.direction = direction\n",
    "\n",
    "thing1 = Transportation(1.0, 2.0, 120.0, 0.0)\n",
    "thing2 = Transportation(1.0, 2.0, 130.0, 0.0)\n",
    "print(\"thing1.speed = {0}\".format(thing1.speed))\n",
    "print(\"thing2.speed = {0}\".format(thing2.speed))"
   ]
  },
  {
   "cell_type": "markdown",
   "metadata": {},
   "source": [
    "### Instance Methods"
   ]
  },
  {
   "cell_type": "code",
   "execution_count": 18,
   "metadata": {},
   "outputs": [
    {
     "name": "stdout",
     "output_type": "stream",
     "text": [
      "thing.speed = 120.0\n",
      "thing.speed = 130.0\n",
      "thing.name = Transportation\n",
      "thing.name = none\n"
     ]
    }
   ],
   "source": [
    "class Transportation:\n",
    "    \n",
    "    name = 'Transportation'\n",
    "    \n",
    "    def __init__(self, latitude, longitude, speed, direction):\n",
    "        self.latitude = latitude\n",
    "        self.longitude = longitude\n",
    "        self.speed = speed\n",
    "        self.direction = direction\n",
    "\n",
    "    def accelerate(self, delta):\n",
    "        self.speed += delta\n",
    "\n",
    "    def decelerate(self, delta):\n",
    "        self.speed -= delta\n",
    "\n",
    "thing = Transportation(1.0, 2.0, 120.0, 0.0)\n",
    "print(\"thing.speed = {0}\".format(thing.speed))\n",
    "\n",
    "thing.accelerate(10)\n",
    "print(\"thing.speed = {0}\".format(thing.speed))\n",
    "\n",
    "print(\"thing.name = {0}\".format(thing.name))\n",
    "\n",
    "thing.name = \"none\"\n",
    "print(\"thing.name = {0}\".format(thing.name))\n",
    "\n"
   ]
  },
  {
   "cell_type": "code",
   "execution_count": null,
   "metadata": {
    "collapsed": true
   },
   "outputs": [],
   "source": []
  }
 ],
 "metadata": {
  "kernelspec": {
   "display_name": "Python 3",
   "language": "python",
   "name": "python3"
  },
  "language_info": {
   "codemirror_mode": {
    "name": "ipython",
    "version": 3
   },
   "file_extension": ".py",
   "mimetype": "text/x-python",
   "name": "python",
   "nbconvert_exporter": "python",
   "pygments_lexer": "ipython3",
   "version": "3.6.1"
  }
 },
 "nbformat": 4,
 "nbformat_minor": 2
}
