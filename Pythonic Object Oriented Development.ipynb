{
 "cells": [
  {
   "cell_type": "markdown",
   "metadata": {},
   "source": [
    "## Object Oriented Develpment\n",
    "\n",
    "#### What is OOP and why do I care?\n",
    "+ Programming Model organized around objects rather than actions and data rather than logic.\n",
    "+ Attempts to simplify larger application construction because programming is hard.\n",
    "\n",
    "#### The three principles of Object Oriented Development are:\n",
    "\n",
    "+ Encapsulation[4] hides stuff we don’t NEED to see\n",
    "+ Abstraction[3] provides ways of manipulating things without knowing EXPLICITLY what they are.\n",
    "+ Polymorphism\n",
    "    1. Allows things participating in a common collection to create SPECIFIC BEHAVIOUR.[5] \n",
    "    2. Allows for the creation of a SINGLE BEHAVIOUR under many different circumstances.[6]\n",
    "\n",
    "#### The tools\n",
    "+ Objects[1] allow us to group functionality based on real world things\n",
    "+ Inheritance[2] allows us to extract COMMON behaviors[3] of things out into an abstract "
   ]
  },
  {
   "cell_type": "markdown",
   "metadata": {},
   "source": [
    "## Traditional Development\n",
    "\n",
    "Here is an example of code you might use to handle the printing of different citation types in a word processor.\n",
    "<br>\n",
    "Notice that code is needed for each type of citation. While this doesn't seem like a lot of code, this basic pattern has to be duplicated throught your code every time you handle a citation. Adding a new type of citation means that each block like this one would need to be changed throughout our application.\n",
    "\n",
    "![](./assets/example1a_small.png)"
   ]
  },
  {
   "cell_type": "markdown",
   "metadata": {},
   "source": [
    "## Object Oriented Development\n",
    "\n",
    "Using object oriented development we can keep the complexity of handling each type of citation out of the main logic of the application. Adding new types of citations becomes almost trivial.\n",
    "\n",
    "![](./assets/example1b_small.png)\n",
    "\n",
    "[1] The Book citation type holds all the data and methods that work on it\n",
    "<br>\n",
    "[2] We use inheritance to indicate that a Book can be treated more abstractly as a citable_source\n",
    "<br>\n",
    "[3] We can leverage this abstractness to treat all our types of citations the same. They all provide a print_citation method\n",
    "<br>\n",
    "[4] Since each type of citation knows how to print itself, the rest of the application no longer needs to know about the specific data it holds.\n",
    "<br>\n",
    "[5] Each of our citation source types have differnet data so each must define a specialized vesion of the print_citation method\n",
    "<br>\n",
    "[6] With a base citation type we can now write methods that take citable_sources and handle the details internally."
   ]
  },
  {
   "cell_type": "markdown",
   "metadata": {},
   "source": [
    "## Some Terminology\n",
    "\n",
    "Think of a <strong>class</strong> as a template we can use to make many <strong>objects</strong> of that type\n",
    "\n",
    "#### Classes and their objects have both\n",
    "+ Attributes (data)\n",
    "+ Methods (actions that can work on data)\n",
    "\n",
    "#### Think of it like a cookie cutter and cookies\n",
    "+ The cookie cutter is the class\n",
    "+ And the cookies it makes are the objects of that cookie cutter class"
   ]
  },
  {
   "cell_type": "markdown",
   "metadata": {},
   "source": [
    "## A Simple Class\n",
    "\n",
    "#### Defining a simple class\n",
    "+ The class keyword identifies a class, name follows and ends with a colon\n",
    "+ pass is a placeholder, a statement that does nothing but stops the interpreter from issuing an error message\n",
    "    \n",
    "#### Using a class to make an object\n",
    "+ In the code below a default constructor (using no arguments) was created for us"
   ]
  },
  {
   "cell_type": "code",
   "execution_count": 13,
   "metadata": {},
   "outputs": [
    {
     "name": "stdout",
     "output_type": "stream",
     "text": [
      "<__main__.Book object at 0x111df8940>\n"
     ]
    }
   ],
   "source": [
    "class Book:\n",
    "    pass\n",
    "\n",
    "book = Book()\n",
    "print(book)"
   ]
  },
  {
   "cell_type": "markdown",
   "metadata": {},
   "source": [
    "## Constructors, Attributes and Methods\n",
    "+ We can create a constructor that takes any number of arguments<br>\n",
    "+ Unfortunately we can only create one constructor (we'll solve this problem later when we talk about polymorphism)"
   ]
  },
  {
   "cell_type": "code",
   "execution_count": 14,
   "metadata": {},
   "outputs": [
    {
     "name": "stdout",
     "output_type": "stream",
     "text": [
      "\"Gone with the Wind\", Margaret Mitchell, 1936\n",
      "\n"
     ]
    }
   ],
   "source": [
    "class Book:\n",
    "    \n",
    "    def __init__(self, title, author, copyright):\n",
    "        self._title = title\n",
    "        self._author = author\n",
    "        self._copyright = copyright\n",
    "\n",
    "    def print_citation(self):\n",
    "        print(\"\\\"{0}\\\", {1}, {2}\".format(self._title, self._author, self._copyright))\n",
    "        print()\n",
    "\n",
    "book = Book(\"Gone with the Wind\", \"Margaret Mitchell\", 1936)\n",
    "book.print_citation()"
   ]
  },
  {
   "cell_type": "markdown",
   "metadata": {},
   "source": [
    "#### Attributes\n",
    "+ The class above defines 3 object attributes (_title, _author, and _copyright)\n",
    "+ Because Python supports dynamic typing, their types are defined by what we put in them\n",
    "+ Since the constructor defines them, we are guaranteed that they will exist by the time we use a Book object\n",
    "\n",
    "#### Methods\n",
    "+ The class defines 2 methods\n",
    "    + The constructor \\__init\\__ (a special method)\n",
    "    + A print method\n",
    "    \n",
    "#### Referencing class attributes and methods\n",
    "    + All methods require the first argument be \"self\"\n",
    "    + All references to methods and variables within a class are done through the self argument value\n",
    "\n",
    "#### Python's Privacy Model\n",
    "+ Underscores have a special meaning in Python either by convention or syntactically\n",
    "    + Convention\n",
    "        + Single underscores indicate that users are discouraged from using the function or attribute outside of the class itself\n",
    "        + Double underscores indicate that users are <strong>strongly</strong> discouraged from using the function or attribute outside of the class itself\n",
    "        + Python has no hard notion of public or private data\n",
    "    + Syntactically\n",
    "        + When you do certain things, Python will call these forbidden functions for you\n",
    "        + In our example, Book() causes Python to call our constructor method named \\__init\\__\n",
    "        \n",
    "see special-method-names.htm"
   ]
  },
  {
   "cell_type": "markdown",
   "metadata": {},
   "source": [
    "## Class Level Attributes and Methods"
   ]
  },
  {
   "cell_type": "code",
   "execution_count": 24,
   "metadata": {},
   "outputs": [
    {
     "name": "stdout",
     "output_type": "stream",
     "text": [
      "Magazine\n",
      "Book class method called, class name is: Book\n",
      "Book class method called, class name is: Book\n",
      "Book static method called\n",
      "Book static method called\n"
     ]
    }
   ],
   "source": [
    "class Book:\n",
    "\n",
    "    _citation_type = \"Book\"\n",
    " \n",
    "    def __init__(self, title, author, copyright):\n",
    "        self._title = title\n",
    "        self._author = author\n",
    "        self._copyright = copyright\n",
    "\n",
    "    def print_citation(self):\n",
    "        print(\"\\\"{0}\\\", {1}, {2}\".format(self._title, self._author, self._copyright))\n",
    "\n",
    "    @classmethod\n",
    "    def print_name(cls):\n",
    "        print(\"Book class method called, class name is: {0}\".format(cls.__name__))\n",
    "\n",
    "    @staticmethod\n",
    "    def print_citation_type():\n",
    "        print(\"Book static method called\")\n",
    "\n",
    "book = Book(\"Gone with the Wind\", \"Margaret Mitchell\", 1936)\n",
    "\n",
    "# You can set a \"private\" attribute\n",
    "Book._citation_type = \"Magazine\"\n",
    "print(Book._citation_type)\n",
    "\n",
    "# Class methods may be invoked on either the class or an object of that class\n",
    "# And recieve a copy of the class they represent\n",
    "Book.print_name()\n",
    "book.print_name()\n",
    "\n",
    "# Static methods may also be invoked on either the class or an object of that class\n",
    "# But do not recieve a copy of the class they represent\n",
    "Book.print_citation_type()\n",
    "book.print_citation_type()"
   ]
  },
  {
   "cell_type": "markdown",
   "metadata": {},
   "source": [
    "#### Class Attributes\n",
    "+ _citation_type is a class attribute (there is only one value for the class and any objects created from it)\n",
    "+ _citation_type is \"private\" (but you can still set it and get its value! But don't)\n",
    "\n",
    "#### Class Methods\n",
    "+ print_name is a class method\n",
    "+ Class methods may be invoked on either the class or an object of that class\n",
    "+ Class methods recieve a reference to the class they belong to when called (cls)\n",
    "\n",
    "#### Static Class Methods\n",
    "+ print_citation_type is a static method\n",
    "+ Static methods may be invoked on either the class or an object of that class\n",
    "+ Static methods <strong>do not</strong> recieve a reference to the class they belong to when called\n",
    "\n",
    "#### Decorators (what is that @ thingy)\n",
    "+ Decorators provide the ability to use Aspect Oriented Programming\n",
    "+ Decorators are used to wrap one thing with another\n",
    "+ In these two cases the build-in decorators @classmethod and @staticmethod wrap the methods they decorate"
   ]
  },
  {
   "cell_type": "markdown",
   "metadata": {},
   "source": [
    "## Inheritance"
   ]
  },
  {
   "cell_type": "code",
   "execution_count": 25,
   "metadata": {},
   "outputs": [
    {
     "name": "stdout",
     "output_type": "stream",
     "text": [
      "[1]\n",
      "[2] \"Zen and the Art of Motorcycle Maintenance\", Robert M. Pirsig, 1974\n",
      "[3] \"DIY: Quinoa, Food or Fashion\", Bon Appetit, 47, I. M. Hungry, 2018\n"
     ]
    }
   ],
   "source": [
    "class Citable_Source:\n",
    "\n",
    "    __next_number = 1\n",
    "    \n",
    "    def __init__(self):\n",
    "        self._number = Citable_Source.__next_number\n",
    "        Citable_Source.__next_number += 1\n",
    "        \n",
    "    def number(self):\n",
    "        return self._number\n",
    "\n",
    "    # Base class implementation, this gets called it the deriving class does not define it\n",
    "    def print_citation(self):\n",
    "        print(\"[{0}]\".format(self.number()))\n",
    "\n",
    "# Unknown inherits from Citable_Source\n",
    "class Unknown(Citable_Source):\n",
    "    # Default base class constructor used since one was not defined\n",
    "    pass\n",
    "    \n",
    "class Book(Citable_Source):\n",
    "    \n",
    "    def __init__(self, title, author, copyright):\n",
    "        # Base class constructor called explicitly\n",
    "        Citable_Source.__init__(self)\n",
    "        self._title = title\n",
    "        self._author = author\n",
    "        self._copyright = copyright\n",
    "\n",
    "    def print_citation(self):\n",
    "        print(\"[{0}] \\\"{1}\\\", {2}, {3}\".format(super().number(), self._title, self._author, self._copyright))\n",
    "        \n",
    "class Magazine(Citable_Source):\n",
    "\n",
    "    def __init__(self, title, author, volume, copyright):\n",
    "        Citable_Source.__init__(self)\n",
    "        self._title = title\n",
    "        self._author = author\n",
    "        self._volume = volume\n",
    "        self._copyright = copyright\n",
    "\n",
    "    def print_citation(self):\n",
    "        print(\"[{0}] \\\"{1}\\\", {2}, {3}, {4}\".format(self.number(), self._title, self._volume, self._author, self._copyright))\n",
    "        \n",
    "unknown = Unknown()\n",
    "book = Book(\"Zen and the Art of Motorcycle Maintenance\", \"Robert M. Pirsig\", 1974)\n",
    "magazine = Magazine(\"DIY: Quinoa, Food or Fashion\", \"I. M. Hungry\", \"Bon Appetit, 47\", 2018)\n",
    "\n",
    "unknown.print_citation()\n",
    "book.print_citation()\n",
    "magazine.print_citation()"
   ]
  },
  {
   "cell_type": "markdown",
   "metadata": {},
   "source": [
    "#### Hightlights\n",
    "\n",
    "+ Inheritance is indicated in a class definition by enclosing the base class name in parenthesis following the class name\n",
    "Unknown, Book, and Magazine all inherit from Citable_Source.\n",
    "\n",
    "+ The default base class constructor will be called unless it is explicitly called when inheriting from a base class\n",
    "\n",
    "+ Base class attributes and methods can be accessed via either the self variable or by using the function super()\n",
    "\n",
    "+ Using a base class allows us to create default behaviour. In this case, the Unknown class does not provide a print_citation but instead uses the default one defined in the Citable_Source class"
   ]
  },
  {
   "cell_type": "markdown",
   "metadata": {},
   "source": [
    "## Duck Typing\n",
    "\n",
    "<strong>If it walks like a duck and swims like a duck and quacks like a duck, it's a duck!</strong>"
   ]
  },
  {
   "cell_type": "code",
   "execution_count": 23,
   "metadata": {},
   "outputs": [
    {
     "name": "stdout",
     "output_type": "stream",
     "text": [
      "I am Unknown\n",
      "I am Book\n",
      "I am Magazine\n"
     ]
    }
   ],
   "source": [
    "class Unknown:\n",
    "\n",
    "    def print_citation(self):\n",
    "        print(\"I am Unknown\")\n",
    "    \n",
    "class Book:\n",
    "    \n",
    "    def print_citation(self):\n",
    "        print(\"I am Book\")\n",
    "        \n",
    "class Magazine:\n",
    "\n",
    "    def print_citation(self):\n",
    "        print(\"I am Magazine\")\n",
    "\n",
    "citations = [\n",
    "    Unknown(),\n",
    "    Book(),\n",
    "    Magazine()\n",
    "]\n",
    "\n",
    "for citation in citations:\n",
    "    citation.print_citation()\n"
   ]
  },
  {
   "cell_type": "markdown",
   "metadata": {},
   "source": [
    "#### Highlights\n",
    "\n",
    "+ citations is a list of our citations, each citation is constructed in-place\n",
    "+ The list doesn't care that the objects aren't of the same class type\n",
    "+ Because Python is dynamically typed, it doesn't care about the class of each object in citations, ever\n",
    "+ I can create a new class that acts like a citation just by creating the citation within it \n",
    "\n",
    "<strong>If it walks like a duck and swims like a duck and quacks like a duck, it's a duck!</strong>\n"
   ]
  },
  {
   "cell_type": "markdown",
   "metadata": {},
   "source": [
    "## Leveraging the Special Method Names\n",
    "\n",
    "You may have seen a section of code that looked something like this:\n",
    "\n",
    "```\n",
    "with open(\"myfile.txt\", \"r\") as f:\n",
    "    f.read()\n",
    "```\n",
    "\n",
    "#### What is the \"with\" doing?\n",
    "+ When we use a resource, in this case an open file, we like to close it when we are done using it\n",
    "+ The \"with\" construct allows the file object to detect when the file f goes out of scope (leaves the nested area) so it can close it for us\n",
    "\n",
    "You may think that this syntax is possible because file.open is part of the Python language but it actually possible because there is code in the Python distribution that leverages a set of well known method names.\n",
    "\n",
    "To see how this works, lets create something similar. In our case we will create a time that when it leaves scope it writes the elapsed time.\n"
   ]
  },
  {
   "cell_type": "code",
   "execution_count": 33,
   "metadata": {},
   "outputs": [
    {
     "name": "stdout",
     "output_type": "stream",
     "text": [
      "Completed in 5.000201940536499 seconds\n"
     ]
    }
   ],
   "source": [
    "import sys\n",
    "import time\n",
    "\n",
    "class timer:\n",
    "    def __int__(self):\n",
    "        self.start = 0\n",
    "        self.end = 0\n",
    "    \n",
    "    def __enter__(self):\n",
    "        self.start = time.time()\n",
    "        return self\n",
    "\n",
    "    def __exit__(self, type, value, traceback):\n",
    "        print(\"Completed in {0} seconds\".format(time.time() - self.start))\n",
    "        \n",
    "with timer() as t:\n",
    "    time.sleep(5)\n",
    "    "
   ]
  },
  {
   "cell_type": "code",
   "execution_count": null,
   "metadata": {},
   "outputs": [],
   "source": []
  },
  {
   "cell_type": "code",
   "execution_count": null,
   "metadata": {},
   "outputs": [],
   "source": []
  }
 ],
 "metadata": {
  "kernelspec": {
   "display_name": "Python 3",
   "language": "python",
   "name": "python3"
  },
  "language_info": {
   "codemirror_mode": {
    "name": "ipython",
    "version": 3
   },
   "file_extension": ".py",
   "mimetype": "text/x-python",
   "name": "python",
   "nbconvert_exporter": "python",
   "pygments_lexer": "ipython3",
   "version": "3.6.8"
  }
 },
 "nbformat": 4,
 "nbformat_minor": 2
}
