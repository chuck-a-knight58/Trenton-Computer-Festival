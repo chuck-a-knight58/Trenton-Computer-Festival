{
 "cells": [
  {
   "cell_type": "markdown",
   "metadata": {},
   "source": [
    "## What is Python\n",
    "\n",
    "- Python is a free, open-source, object-oriented programming language\n",
    "\n",
    "    - Stong community support\n",
    "    - 1000s packages you may download and reference (language processing, facial recongition etc.)\n",
    "    \n",
    "    Examples:<br>\n",
    "    - scipy, numpy, pandas, mpi4py for science\n",
    "    - pyQT for GUI interface devlopment\n",
    "    - APIs - LinkedIn, CraigsList, Google, BeautifulSoup\n",
    "    - TensorFlow for Machine Learning\n",
    "    - nltk for Natural Lanaguage Processing and Analysis\n",
    "    - py2FaceR for Facial Recognition\n",
    "    <br>\n",
    "<br>\n",
    "    \n",
    "- Objects can have properties and methods:\n",
    "    - Properties – Name, Spatial Reference, Extent, etc. \n",
    "    - Method – Something the object can do\n",
    "<br>\n",
    "<br>\n",
    "- Scripting allows you to automate time-consuming and complex process so you can work more efficiently.\n"
   ]
  },
  {
   "cell_type": "markdown",
   "metadata": {},
   "source": [
    "## How do I get it\n",
    "\n",
    "#### Python \n",
    "\n",
    "Python is \"free\" but is curated by several organizations (some for profit)\n",
    "\n",
    "https://anaconda.org/<br>\n",
    "https://www.enthought.com/product/canopy/<br>\n",
    "https://www.python.org/\n",
    "\n",
    "#### PyPI - the Python Package Index\n",
    "\n",
    "The Python Package Index is a repository of software for the Python programming language. Currently the repository contains over 130,000 packages. \n",
    "\n",
    "https://pypi.python.org/pypi\n",
    "\n",
    "\n",
    "#### Make No Commitments\n",
    "\n",
    "http://pythonfiddle.com/"
   ]
  },
  {
   "cell_type": "markdown",
   "metadata": {},
   "source": [
    "## Some Python Miscellany\n",
    "\n",
    "- Python is interpreted\n",
    "- Python is case-sensitive\n",
    "- Python uses indentation to define code blocks\n",
    "- '#' is used to designate comment code (and '\"\"\"' ...'\"\"\"' for multi-line comments)\n",
    "- '\\*' is a wildcard character in strings (useful for finding or identifying specific files: “I:\\plays\\\\\\*henry\\*.doc”)\n",
    "- = vs ==\n",
    "    - = is used for assignment.\n",
    "    - == is used to test for equivalency\n"
   ]
  },
  {
   "cell_type": "markdown",
   "metadata": {},
   "source": [
    "## Data Types\n",
    "- Numbers \n",
    "    - Integer/Long Integer, Float\n",
    "- Strings\n",
    "    - Text \n",
    "- Lists\n",
    "    - Ordered list of numbers, strings, other lists, or combinations of data types.\n",
    "- Dictionaries\n",
    "    - Keyed collection of numbers, strings, other lists, or combinations of data types.\n",
    "- Tuples\n",
    "    - Similar to a list but immutable (useful for indexing)"
   ]
  },
  {
   "cell_type": "markdown",
   "metadata": {},
   "source": [
    "## Numbers\n",
    "- Assign number values to variables using =\n",
    "- Convert between integer and floating point using int() and float() functions.\n",
    "- Numbers can be converted into strings using the str() function\n",
    "- Python cannot concatenate numbers and strings\n"
   ]
  },
  {
   "cell_type": "code",
   "execution_count": 19,
   "metadata": {},
   "outputs": [
    {
     "name": "stdout",
     "output_type": "stream",
     "text": [
      "14\n"
     ]
    }
   ],
   "source": [
    "number = 14\n",
    "print(number)"
   ]
  },
  {
   "cell_type": "code",
   "execution_count": 20,
   "metadata": {},
   "outputs": [
    {
     "data": {
      "text/plain": [
       "14.0"
      ]
     },
     "execution_count": 20,
     "metadata": {},
     "output_type": "execute_result"
    }
   ],
   "source": [
    "float(number)"
   ]
  },
  {
   "cell_type": "code",
   "execution_count": 21,
   "metadata": {},
   "outputs": [
    {
     "data": {
      "text/plain": [
       "14"
      ]
     },
     "execution_count": 21,
     "metadata": {},
     "output_type": "execute_result"
    }
   ],
   "source": [
    "int(number)"
   ]
  },
  {
   "cell_type": "code",
   "execution_count": 22,
   "metadata": {},
   "outputs": [
    {
     "data": {
      "text/plain": [
       "'14'"
      ]
     },
     "execution_count": 22,
     "metadata": {},
     "output_type": "execute_result"
    }
   ],
   "source": [
    "str(number)"
   ]
  },
  {
   "cell_type": "code",
   "execution_count": 23,
   "metadata": {},
   "outputs": [
    {
     "name": "stdout",
     "output_type": "stream",
     "text": [
      "number = 2018\n",
      "number = 2018\n"
     ]
    }
   ],
   "source": [
    "year = 2018\n",
    "s = \"number = {0}\".format(year)\n",
    "print(s)\n",
    "\n",
    "print(f'number = {year}')"
   ]
  },
  {
   "cell_type": "markdown",
   "metadata": {},
   "source": [
    "<table style=\"width:100%\">\n",
    "<tr>\n",
    "    <th><p align=\"left\">Op</p></th>\n",
    "    <th><p align=\"left\">Arithmetic Operators</p></th>\n",
    "    <th><p align=\"left\">Op</p></th>\n",
    "    <th><p align=\"left\">Comparison Operators</p></th>\n",
    "</tr>\n",
    "<tr>\n",
    "    <td><p align=\"left\">+ </p></td>\n",
    "    <td><p align=\"left\">Addition            </p></td>\n",
    "    <td><p align=\"left\">==    </p></td>\n",
    "    <td><p align=\"left\">Is Equal To             </p></td>\n",
    "</tr>\n",
    "<tr>\n",
    "    <td><p align=\"left\">- </p></td>\n",
    "    <td><p align=\"left\">Subtraction         </p></td>\n",
    "    <td><p align=\"left\">!=    </p></td>\n",
    "    <td><p align=\"left\">Does Not Equal          </p></td>\n",
    "</tr>\n",
    "<tr>\n",
    "    <td><p align=\"left\">&#42; </p></td>\n",
    "    <td><p align=\"left\">Multiplication      </p></td>\n",
    "    <td><p align=\"left\">&lt;&gt;</p></td>\n",
    "    <td><p align=\"left\">Does Not Equal          </p></td>\n",
    "</tr>\n",
    "<tr>\n",
    "    <td><p align=\"left\">/ </p></td>\n",
    "    <td><p align=\"left\">Division            </p></td>\n",
    "    <td><p align=\"left\">&gt;  </p></td>\n",
    "    <td><p align=\"left\">Greater Than            </p></td>\n",
    "</tr>\n",
    "<tr>\n",
    "    <td><p align=\"left\">% </p></td>\n",
    "    <td><p align=\"left\">Modulus             </p></td>\n",
    "    <td><p align=\"left\">&lt;  </p></td>\n",
    "    <td><p align=\"left\">Less Than               </p></td>\n",
    "</tr>\n",
    "<tr>\n",
    "    <td><p align=\"left\">&#42;&#42;</p></td>\n",
    "    <td><p align=\"left\">Exponent            </p></td>\n",
    "    <td><p align=\"left\">&gt;= </p></td>\n",
    "    <td><p align=\"left\">Greater Than or Equal To</p></td>\n",
    "</tr>\n",
    "<tr>\n",
    "    <td><p align=\"left\">//</p></td>\n",
    "    <td><p align=\"left\">Floor Division      </p></td>\n",
    "    <td><p align=\"left\">&lt;= </p></td>\n",
    "    <td><p align=\"left\">Less Than or Equal To   </p></td>\n",
    "</tr>\n",
    "</table>"
   ]
  },
  {
   "cell_type": "markdown",
   "metadata": {},
   "source": [
    "## Strings\n",
    "- Strings are defined by single or double quotes (\"Hello World\")\n",
    "- Strings are a collection of characters\n",
    "- Individial characters may be accessed via and index\n",
    "- Backslashes are escape characters in Python. Use 'r' (raw) to define strings that contain backslashes\n",
    "- Strings are concatenated using the '+' operator"
   ]
  },
  {
   "cell_type": "code",
   "execution_count": 24,
   "metadata": {},
   "outputs": [
    {
     "name": "stdout",
     "output_type": "stream",
     "text": [
      "Hello world\n"
     ]
    }
   ],
   "source": [
    "example = \"Hi\"\n",
    "example = 'Hello world'\n",
    "print(example)"
   ]
  },
  {
   "cell_type": "code",
   "execution_count": 25,
   "metadata": {},
   "outputs": [
    {
     "name": "stdout",
     "output_type": "stream",
     "text": [
      "H\n",
      "e\n",
      "l\n",
      "l\n",
      "o\n"
     ]
    }
   ],
   "source": [
    "print(example[0])\n",
    "print(example[1])\n",
    "print(example[2])\n",
    "print(example[3])\n",
    "print(example[4])"
   ]
  },
  {
   "cell_type": "code",
   "execution_count": 26,
   "metadata": {},
   "outputs": [
    {
     "name": "stdout",
     "output_type": "stream",
     "text": [
      "C:\\users\\chuck\\Tools\n",
      "C:\\users\\chuck\\Tools\n"
     ]
    }
   ],
   "source": [
    "filePath = \"C:\\\\users\\\\chuck\\\\Tools\"\n",
    "print(filePath)\n",
    "filePath = r\"C:\\users\\chuck\\Tools\"\n",
    "print(filePath)"
   ]
  },
  {
   "cell_type": "code",
   "execution_count": 27,
   "metadata": {},
   "outputs": [
    {
     "name": "stdout",
     "output_type": "stream",
     "text": [
      "Hi everyone\n"
     ]
    }
   ],
   "source": [
    "example = \"Hi \" + \"everyone\"\n",
    "print(example)"
   ]
  },
  {
   "cell_type": "markdown",
   "metadata": {},
   "source": [
    "<table style=\"width:100%\">\n",
    "<tr>\n",
    "    <th><p align=\"left\">String Method</p></th>\n",
    "    <th><p align=\"left\">Description</p></th>\n",
    "    <th><p align=\"left\">Examples: <br> &gt;&gt;&gt; txt = r“I:\\GIS\\clayton.shp”</p></th>\n",
    "</tr>\n",
    "\n",
    "<tr>\n",
    "<td><p align=\"left\">.startswith(prefix)</p></td>\n",
    "<td><p align=\"left\">Returns True if string starts with prefix.</p></td>\n",
    "<td><p align=\"left\"> &gt;&gt;&gt; txt.startswith(“I:\\GIS”)<br>True</p></td>\n",
    "</tr>\n",
    "\n",
    "<tr>\n",
    "<td><p align=\"left\">.endswith(suffix)</p></td>\n",
    "<td><p align=\"left\">Returns True if string ends with suffix. <br>*Useful for finding filetypes!</p></td>\n",
    "<td><p align=\"left\"> &gt;&gt;&gt; txt.endswith(“.shp”)<br>True</p></td>\n",
    "</tr>\n",
    "\n",
    "<tr>\n",
    "<td><p align=\"left\">.isalnum(string)</p></td>\n",
    "<td><p align=\"left\">Returns True if all characters in string are <br>alphanumeric.</p></td>\n",
    "<td><p align=\"left\"> &gt;&gt;&gt; txt.isalnum()<br>False</p></td>\n",
    "</tr>\n",
    "\n",
    "<tr>\n",
    "<td><p align=\"left\">.replace(old, new)</p></td>\n",
    "<td><p align=\"left\">Returns a copy of the string with <br>all occurrences of old replaced <br>by new.</p></td>\n",
    "<td><p align=\"left\"> &gt;&gt;&gt; txt.replace(“GIS”, “GDB”)<br>\"I:\\\\GDB\\\\clayton.shp\"</p></td>\n",
    "</tr>\n",
    "\n",
    "<tr>\n",
    "<td><p align=\"left\">.split(sep)</p></td>\n",
    "<td><p align=\"left\">Returns a list of the words in a string, using sep <br>as the delimiter.</p></td>\n",
    "<td><p align=\"left\"> &gt;&gt;&gt; txt.split(“\\\\”)<br>[\"I:\" , \"GIS\" , \"clayton.shp\"]</p></td>\n",
    "</tr>\n",
    "\n",
    "<tr>\n",
    "<td><p align=\"left\">.strip(chars)</p></td>\n",
    "<td><p align=\"left\">Returns a copy of the string with the leading/<br>trailing chars removed. If no chars given, <br>whitespace is removed.</p></td>\n",
    "<td><p align=\"left\"> &gt;&gt;&gt; txt.strip(“.shp”)<br>\"I:\\\\GIS\\\\clayton\"</p></td>\n",
    "</tr>\n",
    "\n",
    "</table>"
   ]
  },
  {
   "cell_type": "markdown",
   "metadata": {},
   "source": [
    "## Lists\n",
    "\n",
    "- Lists are ordered sets of data elements enclosed in square brackets\n",
    "- Items in lists are ordered 0, 1, 2, 3, etc. \n",
    "- Items in the list may be of different types\n",
    "- To retrieve a specific item, give the list name followed by the item’s index (i.e.,order) number enclosed in square brackets\n",
    "- List comprehensions are a special construct for the creation of lists"
   ]
  },
  {
   "cell_type": "code",
   "execution_count": 28,
   "metadata": {},
   "outputs": [
    {
     "name": "stdout",
     "output_type": "stream",
     "text": [
      "['Houston', 'Austin', 'Dallas']\n",
      "Houston\n",
      "Austin\n",
      "Dallas\n"
     ]
    }
   ],
   "source": [
    "emptyList = []\n",
    "Cities = [\"Houston\" , \"Austin\" , \"Dallas\"]\n",
    "print(Cities)\n",
    "print(Cities[0])\n",
    "print(Cities[1])\n",
    "print(Cities[2])"
   ]
  },
  {
   "cell_type": "code",
   "execution_count": 29,
   "metadata": {},
   "outputs": [
    {
     "name": "stdout",
     "output_type": "stream",
     "text": [
      "[0, 1, 2, 3, 4, 5, 6, 7, 8, 9]\n",
      "[0, 2, 4, 6, 8]\n"
     ]
    }
   ],
   "source": [
    "list = [0, 1, 2, 3, 4, 5, 6, 7, 8, 9]\n",
    "print(list)\n",
    "list = [x for x in list if (x % 2) == 0 ]\n",
    "print(list)"
   ]
  },
  {
   "cell_type": "markdown",
   "metadata": {},
   "source": [
    "<table style=\"width:100%\">\n",
    "<tr>\n",
    "    <th><p align=\"left\">List Method</p></th>\n",
    "    <th><p align=\"left\">Description</p></th>\n",
    "    <th><p align=\"left\">Examples: <br> &gt;&gt;&gt; list = ['a', 'd', 'c', 'b']</p></th>\n",
    "</tr>\n",
    "\n",
    "<tr>\n",
    "<td><p align=\"left\">.append(item)</p></td>\n",
    "<td><p align=\"left\">Add item to the list.</p></td>\n",
    "<td><p align=\"left\"> &gt;&gt;&gt; list.append(‘e’)<br>['a', 'd', 'c', 'b', 'e']</p></td>\n",
    "</tr>\n",
    "\n",
    "<tr>\n",
    "<td><p align=\"left\">.sort()</p></td>\n",
    "<td><p align=\"left\">Sort the items of a list.</p></td>\n",
    "<td><p align=\"left\"> &gt;&gt;&gt; print list.sort()<br>['a', 'd', 'c', 'b']</p></td>\n",
    "</tr>\n",
    "\n",
    "<tr>\n",
    "<td><p align=\"left\">.reverse()</p></td>\n",
    "<td><p align=\"left\">Reverse the item order.</p></td>\n",
    "<td><p align=\"left\"> &gt;&gt;&gt; print list.reverse()<br>['b', 'c', 'd', 'a']</p></td>\n",
    "</tr>\n",
    "\n",
    "<tr>\n",
    "<td><p align=\"left\">.remove(x)</p></td>\n",
    "<td><p align=\"left\">Remove the first item from the list whose value is x.</p></td>\n",
    "<td><p align=\"left\"> &gt;&gt;&gt; print list.remove('a')<br>['d', 'c', 'b']</p></td>\n",
    "</tr>\n",
    "\n",
    "<tr>\n",
    "<td><p align=\"left\">.insert(#, item)</p></td>\n",
    "<td><p align=\"left\">Insert item into the list at the list position #.</p></td>\n",
    "<td><p align=\"left\"> &gt;&gt;&gt; print list.insert(0,'z')<br>['z', 'a', 'd', 'c', 'b']</p></td>\n",
    "</tr>\n",
    "\n",
    "<tr>\n",
    "<td><p align=\"left\">.count(x)</p></td>\n",
    "<td><p align=\"left\">Count the number of times x appears in the list.</p></td>\n",
    "<td><p align=\"left\"> &gt;&gt;&gt; print list.count('c')<br>1</p></td>\n",
    "</tr>\n",
    "\n",
    "</table>"
   ]
  },
  {
   "cell_type": "markdown",
   "metadata": {},
   "source": [
    "## Dictionaries\n",
    "- Dictionaries are unordered sets of key value pairs enclosed in curley brackets\n",
    "- Items in the dictionary may be of different types\n",
    "- To retrieve a specific item, give the dictionary name followed by the item’s key enclosed in square brackets\n",
    "- Dictionary comprehensions are a special construct for the creation of dictionaries\n"
   ]
  },
  {
   "cell_type": "code",
   "execution_count": 30,
   "metadata": {},
   "outputs": [
    {
     "name": "stdout",
     "output_type": "stream",
     "text": [
      "emptyDictionary[\"cat\"] = 1\n",
      "emptyDictionary[\"dog\"] = happy\n"
     ]
    }
   ],
   "source": [
    "emptyDictionary = {}\n",
    "emptyDictionary[\"cat\"] = 1\n",
    "emptyDictionary[\"dog\"] = \"happy\"\n",
    "print(\"emptyDictionary[\\\"cat\\\"] = {0}\".format(emptyDictionary[\"cat\"]))\n",
    "print(\"emptyDictionary[\\\"dog\\\"] = {0}\".format(emptyDictionary[\"dog\"]))"
   ]
  },
  {
   "cell_type": "code",
   "execution_count": 31,
   "metadata": {},
   "outputs": [
    {
     "name": "stdout",
     "output_type": "stream",
     "text": [
      "{'Houston': 2000000, 'Austin': 1500001, 'Dallas': 3000000}\n",
      "1500001\n"
     ]
    }
   ],
   "source": [
    "CityPopulations = { \"Houston\":2000000 , \"Austin\":1500001 , \"Dallas\":3000000 }\n",
    "print(CityPopulations)\n",
    "print(CityPopulations[\"Austin\"])"
   ]
  },
  {
   "cell_type": "code",
   "execution_count": 32,
   "metadata": {},
   "outputs": [
    {
     "name": "stdout",
     "output_type": "stream",
     "text": [
      "{'Houston': 2000000, 'Dallas': 3000000}\n"
     ]
    }
   ],
   "source": [
    "CityPopulations = {k:v for (k,v) in CityPopulations.items() if (v % 2) == 0}\n",
    "print(CityPopulations)"
   ]
  },
  {
   "cell_type": "code",
   "execution_count": 33,
   "metadata": {},
   "outputs": [
    {
     "data": {
      "text/plain": [
       "dict_items([('Houston', 2000000), ('Dallas', 3000000)])"
      ]
     },
     "execution_count": 33,
     "metadata": {},
     "output_type": "execute_result"
    }
   ],
   "source": [
    "CityPopulations.items()\n"
   ]
  },
  {
   "cell_type": "markdown",
   "metadata": {},
   "source": [
    "<table style=\"width:100%\">\n",
    "<tr>\n",
    "    <th><p align=\"left\">Dictionary Method</p></th>\n",
    "    <th><p align=\"left\">Description</p></th>\n",
    "    <th><p align=\"left\">Examples: <br> &gt;&gt;&gt; dict = {'a':0, 'd':1}</p></th>\n",
    "</tr>\n",
    "\n",
    "<tr>\n",
    "<td><p align=\"left\">.items()</p></td>\n",
    "<td><p align=\"left\">Returns a view of the dictionary's (key,value) pairs.</p></td>\n",
    "<td><p align=\"left\"> &gt;&gt;&gt; dict.items(‘e’)<br>dict_items([('a':0), ('d':1)])</p></td>\n",
    "</tr>\n",
    "\n",
    "<tr>\n",
    "<td><p align=\"left\">.keys()</p></td>\n",
    "<td><p align=\"left\">Returns a view object of all keys.</p></td>\n",
    "<td><p align=\"left\"> &gt;&gt;&gt; print dict.keys()<br>dict_keys(['a', 'd'])</p></td>\n",
    "</tr>\n",
    "\n",
    "<tr>\n",
    "<td><p align=\"left\">.values()</p></td>\n",
    "<td><p align=\"left\">Returns a view object of all values.</p></td>\n",
    "<td><p align=\"left\"> &gt;&gt;&gt; print dict.values()<br>dict_values([0, 1])</p></td>\n",
    "</tr>\n",
    "\n",
    "<tr>\n",
    "<td><p align=\"left\">.pop(key)</p></td>\n",
    "<td><p align=\"left\">Returns an item and deletes it from the dictionary.</p></td>\n",
    "<td><p align=\"left\"> &gt;&gt;&gt; print dict.pop('a')<br>{'d':1}</p></td>\n",
    "</tr>\n",
    "\n",
    "<tr>\n",
    "<td><p align=\"left\">.clear()</p></td>\n",
    "<td><p align=\"left\">Removes all items from the dictionary.</p></td>\n",
    "<td><p align=\"left\"> &gt;&gt;&gt; print dict.clear()<br>{}</p></td>\n",
    "</tr>\n",
    "\n",
    "</table>"
   ]
  },
  {
   "cell_type": "markdown",
   "metadata": {},
   "source": [
    "## Tuples\n",
    "- Tuples are ordered sets of data elements enclosed in parenthesis\n",
    "- Tuples are very similar to lists\n",
    "- Tuples are immutable and therefore are useful as indexers"
   ]
  },
  {
   "cell_type": "code",
   "execution_count": 34,
   "metadata": {},
   "outputs": [
    {
     "name": "stdout",
     "output_type": "stream",
     "text": [
      "Chuck\n"
     ]
    }
   ],
   "source": [
    "person = (\"Chuck\", \"Knight\")\n",
    "print(person[0])"
   ]
  },
  {
   "cell_type": "code",
   "execution_count": 35,
   "metadata": {},
   "outputs": [
    {
     "name": "stdout",
     "output_type": "stream",
     "text": [
      "{('Chuck', 'Knight'): 10, ('Kody', 'Knight'): 11, ('William', 'Tell'): 0}\n"
     ]
    }
   ],
   "source": [
    "people = {}\n",
    "people[(\"Chuck\", \"Knight\")] = 10\n",
    "people[(\"Kody\", \"Knight\")] = 11\n",
    "people[(\"William\", \"Tell\")] = 0\n",
    "print(people)"
   ]
  },
  {
   "cell_type": "code",
   "execution_count": 36,
   "metadata": {},
   "outputs": [
    {
     "ename": "TypeError",
     "evalue": "'tuple' object does not support item assignment",
     "output_type": "error",
     "traceback": [
      "\u001b[1;31m---------------------------------------------------------------------------\u001b[0m",
      "\u001b[1;31mTypeError\u001b[0m                                 Traceback (most recent call last)",
      "\u001b[1;32m<ipython-input-36-cf59a9b45c74>\u001b[0m in \u001b[0;36m<module>\u001b[1;34m\u001b[0m\n\u001b[0;32m      1\u001b[0m \u001b[0mperson\u001b[0m \u001b[1;33m=\u001b[0m \u001b[1;33m(\u001b[0m\u001b[1;34m\"Chuck\"\u001b[0m\u001b[1;33m,\u001b[0m \u001b[1;34m\"Knight\"\u001b[0m\u001b[1;33m)\u001b[0m\u001b[1;33m\u001b[0m\u001b[1;33m\u001b[0m\u001b[0m\n\u001b[1;32m----> 2\u001b[1;33m \u001b[0mperson\u001b[0m\u001b[1;33m[\u001b[0m\u001b[1;36m0\u001b[0m\u001b[1;33m]\u001b[0m \u001b[1;33m=\u001b[0m \u001b[1;34m\"not chuck\"\u001b[0m\u001b[1;33m\u001b[0m\u001b[1;33m\u001b[0m\u001b[0m\n\u001b[0m",
      "\u001b[1;31mTypeError\u001b[0m: 'tuple' object does not support item assignment"
     ]
    }
   ],
   "source": [
    "person = (\"Chuck\", \"Knight\")\n",
    "person[0] = \"not chuck\""
   ]
  },
  {
   "cell_type": "markdown",
   "metadata": {},
   "source": [
    "## Conditions and Loops\n",
    "- All conditional and loop statements end with a ':'\n",
    "- Code within a conditional or loop is nested using spaces"
   ]
  },
  {
   "cell_type": "markdown",
   "metadata": {},
   "source": [
    "## if - elif - else Statements\n",
    "- Perform some operation if a statement is true otherwise (else) do something else\n",
    "- Boolean operators were listed previously (under Numbers)"
   ]
  },
  {
   "cell_type": "code",
   "execution_count": 37,
   "metadata": {},
   "outputs": [
    {
     "name": "stdout",
     "output_type": "stream",
     "text": [
      "pi is not greater than or equal to 3\n"
     ]
    }
   ],
   "source": [
    "pi = 1.14\n",
    "if pi >= 4:\n",
    "    print(\"pi is greater than or equal to 4\")\n",
    "elif pi > 3:\n",
    "    print(\"pi is greater than or equal to 3 but less than 4\")\n",
    "else:\n",
    "    print(\"pi is not greater than or equal to 3\")\n",
    "    "
   ]
  },
  {
   "cell_type": "code",
   "execution_count": 38,
   "metadata": {},
   "outputs": [
    {
     "name": "stdout",
     "output_type": "stream",
     "text": [
      "pi is greater than or equal to 3 but less than 4\n"
     ]
    }
   ],
   "source": [
    "pi = 3.14\n",
    "if pi >= 4:\n",
    "    print(\"pi is greater than or equal to 4\")\n",
    "else:\n",
    "    if pi > 3:\n",
    "        print(\"pi is greater than or equal to 3 but less than 4\")\n",
    "    else:\n",
    "        print(\"pi is not greater than or equal to 3\")"
   ]
  },
  {
   "cell_type": "markdown",
   "metadata": {},
   "source": [
    "## for - else Statements\n",
    "- Loops are used to iterate over a collection/range of elements\n",
    "- Like other languages Python has the concept of break and continue for loops\n",
    "- Unlike other languages a for loop may have an else clause\n",
    "- Introducing range() - used to create iteration indices"
   ]
  },
  {
   "cell_type": "code",
   "execution_count": 39,
   "metadata": {},
   "outputs": [
    {
     "name": "stdout",
     "output_type": "stream",
     "text": [
      "0\n",
      "1\n",
      "2\n",
      "3\n",
      "4\n",
      "5\n",
      "6\n",
      "7\n",
      "8\n",
      "9\n"
     ]
    }
   ],
   "source": [
    "list = [0, 1, 2, 3, 4, 5, 6, 7, 8, 9]\n",
    "for x in list:\n",
    "    print(x)"
   ]
  },
  {
   "cell_type": "code",
   "execution_count": 40,
   "metadata": {},
   "outputs": [
    {
     "name": "stdout",
     "output_type": "stream",
     "text": [
      "0\n",
      "1\n",
      "2\n",
      "3\n",
      "4\n",
      "5\n",
      "6\n",
      "7\n",
      "8\n",
      "9\n"
     ]
    }
   ],
   "source": [
    "for x in range(0, 10):\n",
    "    print(x)"
   ]
  },
  {
   "cell_type": "code",
   "execution_count": 41,
   "metadata": {},
   "outputs": [
    {
     "name": "stdout",
     "output_type": "stream",
     "text": [
      "There were no elements\n"
     ]
    }
   ],
   "source": [
    "list = []\n",
    "for x in list:\n",
    "    print(x)\n",
    "else:\n",
    "    print(\"There were no elements\")"
   ]
  },
  {
   "cell_type": "markdown",
   "metadata": {},
   "source": [
    "## while - else Statements\n",
    "- Loops are used to iterate some criteria are met (some statement is true)\n",
    "- Again\n",
    "    - Like other languages Python has the concept of break and continue for loops\n",
    "    - Unlike other languages a while loop may have an else clause\n",
    "- Introducing pass - The no op command\n"
   ]
  },
  {
   "cell_type": "code",
   "execution_count": 42,
   "metadata": {},
   "outputs": [
    {
     "name": "stdout",
     "output_type": "stream",
     "text": [
      "The count is: 0\n",
      "The count is: 1\n",
      "The count is: 2\n",
      "The count is: 3\n",
      "The count is: 4\n",
      "The count is: 5\n",
      "The count is: 6\n",
      "The count is: 7\n",
      "The count is: 8\n"
     ]
    }
   ],
   "source": [
    "count = 0\n",
    "while (count < 9):\n",
    "   print(\"The count is: {0}\".format(count))\n",
    "   count = count + 1"
   ]
  },
  {
   "cell_type": "code",
   "execution_count": 43,
   "metadata": {},
   "outputs": [
    {
     "name": "stdout",
     "output_type": "stream",
     "text": [
      "The count is: 5\n",
      "The count is: 6\n",
      "The count is: 7\n",
      "The count is: 8\n",
      "count was never less than 9\n"
     ]
    }
   ],
   "source": [
    "# The else clause acts like the finally statment in other languages \n",
    "# (always executed once at the end of any iterations)\n",
    "count = 5\n",
    "while (count < 9):\n",
    "   print(\"The count is: {0}\".format(count))\n",
    "   count = count + 1\n",
    "else:\n",
    "    print(\"count was never less than 9\")"
   ]
  },
  {
   "cell_type": "code",
   "execution_count": 44,
   "metadata": {},
   "outputs": [
    {
     "name": "stdout",
     "output_type": "stream",
     "text": [
      "count was never less than 9\n"
     ]
    }
   ],
   "source": [
    "count = 10\n",
    "while (count < 9):\n",
    "   print(\"The count is: {0}\".format(count))\n",
    "   count = count + 1\n",
    "else:\n",
    "    print(\"count was never less than 9\")"
   ]
  },
  {
   "cell_type": "code",
   "execution_count": 45,
   "metadata": {},
   "outputs": [],
   "source": [
    "# Using the pass statment (a no op) until a decision structure can be defined later\n",
    "count = 10\n",
    "while (count < 9):\n",
    "    pass"
   ]
  },
  {
   "cell_type": "markdown",
   "metadata": {},
   "source": [
    "## Modules\n",
    "- At some point you will want to use other peoples Python code\n",
    "- Importing allows your Python code to see installed Python packages\n",
    "- You can use OPPC either from it's native namespace or merge it into yours \n",
    "\n",
    "Some core modules\n",
    "- os – Operating system functions\n",
    "- sys – System-specific parameters and functions\n",
    "- glob – Unix-style pathname patterns\n",
    "- csv – CSV file reading and writing"
   ]
  },
  {
   "cell_type": "code",
   "execution_count": 46,
   "metadata": {},
   "outputs": [
    {
     "name": "stdout",
     "output_type": "stream",
     "text": [
      "3.7.6 (default, Jan  8 2020, 20:23:39) [MSC v.1916 64 bit (AMD64)]\n"
     ]
    }
   ],
   "source": [
    "# How to tell what version of a package we are using\n",
    "import sys\n",
    "print(sys.version)"
   ]
  },
  {
   "cell_type": "code",
   "execution_count": 47,
   "metadata": {},
   "outputs": [
    {
     "name": "stdout",
     "output_type": "stream",
     "text": [
      "C:\\Users\\caknigh\\LocalData\\DevArea\\projects\\Trenton-Computer-Festival\n"
     ]
    }
   ],
   "source": [
    "# A simple import which requires a namespace prefix to use its methods\n",
    "import os as o\n",
    "print(o.getcwd())"
   ]
  },
  {
   "cell_type": "code",
   "execution_count": 48,
   "metadata": {},
   "outputs": [
    {
     "name": "stdout",
     "output_type": "stream",
     "text": [
      "Sleeping...\n",
      "done!\n"
     ]
    }
   ],
   "source": [
    "# Merge a single import into our namespace (so that no qualifier needed)\n",
    "from time import sleep\n",
    "print(\"Sleeping...\")\n",
    "sleep(1)\n",
    "print(\"done!\")"
   ]
  },
  {
   "cell_type": "code",
   "execution_count": 49,
   "metadata": {},
   "outputs": [
    {
     "name": "stdout",
     "output_type": "stream",
     "text": [
      "randint = 0\n"
     ]
    }
   ],
   "source": [
    "# Merge all imports into our namespace (so that no qualifiers are needed)\n",
    "# Other than those prefixed by \"_\" which implements a crude form of encapsulation\n",
    "from random import *\n",
    "print(\"randint = {0}\".format(randint(0, 10)))"
   ]
  },
  {
   "cell_type": "code",
   "execution_count": null,
   "metadata": {},
   "outputs": [],
   "source": []
  }
 ],
 "metadata": {
  "kernelspec": {
   "display_name": "Python 3 (ipykernel)",
   "language": "python",
   "name": "python3"
  },
  "language_info": {
   "codemirror_mode": {
    "name": "ipython",
    "version": 3
   },
   "file_extension": ".py",
   "mimetype": "text/x-python",
   "name": "python",
   "nbconvert_exporter": "python",
   "pygments_lexer": "ipython3",
   "version": "3.9.7"
  }
 },
 "nbformat": 4,
 "nbformat_minor": 2
}
